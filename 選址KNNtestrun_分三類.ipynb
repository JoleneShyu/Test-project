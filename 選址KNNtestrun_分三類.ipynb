{
  "nbformat": 4,
  "nbformat_minor": 0,
  "metadata": {
    "colab": {
      "name": "選址KNNtestrun_分三類.ipynb",
      "provenance": [],
      "collapsed_sections": [],
      "mount_file_id": "1cw3BStAcLGO33ZyQ7u4y8UZ4rEG08CYm",
      "authorship_tag": "ABX9TyMBRk9c6GobKB+lLVZb2BMC",
      "include_colab_link": true
    },
    "kernelspec": {
      "name": "python3",
      "display_name": "Python 3"
    },
    "language_info": {
      "name": "python"
    }
  },
  "cells": [
    {
      "cell_type": "markdown",
      "metadata": {
        "id": "view-in-github",
        "colab_type": "text"
      },
      "source": [
        "<a href=\"https://colab.research.google.com/github/JoleneShyu/Test-project/blob/main/%E9%81%B8%E5%9D%80KNNtestrun_%E5%88%86%E4%B8%89%E9%A1%9E.ipynb\" target=\"_parent\"><img src=\"https://colab.research.google.com/assets/colab-badge.svg\" alt=\"Open In Colab\"/></a>"
      ]
    },
    {
      "cell_type": "markdown",
      "metadata": {
        "id": "Xf7TjbJF8sjV"
      },
      "source": [
        "https://www.kdnuggets.com/2020/04/introduction-k-nearest-neighbour-algorithm-using-examples.html"
      ]
    },
    {
      "cell_type": "code",
      "metadata": {
        "id": "LOQ7u5tgRX1W",
        "colab": {
          "base_uri": "https://localhost:8080/"
        },
        "outputId": "2401966a-fa6b-4b10-a2ba-04c1d20d7c8d"
      },
      "source": [
        "import os\n",
        "os.listdir() #左邊檔案裏要開放連結到我的雲端硬碟,os.listdir()才能抓到'drive',才能找到放在雲端硬碟的檔案路徑\n",
        "os.listdir('drive/MyDrive/Colab Notebooks/AIA Project')"
      ],
      "execution_count": 56,
      "outputs": [
        {
          "output_type": "execute_result",
          "data": {
            "text/plain": [
              "['選址因子0503.xlsx',\n",
              " 'AIA_2_locationchooser.ipynb',\n",
              " '選址因子0503_cordinator.xlsx',\n",
              " '選址因子0503_Jolene_KNNtest.xlsx',\n",
              " '選址XGboost_testrun.ipynb',\n",
              " '選址因子06012_J_data.xlsx',\n",
              " '選址KNNtestrun.ipynb',\n",
              " '選址XGBClassifier_testrun.ipynb',\n",
              " '選址因子06012_J_data_3類.xlsx']"
            ]
          },
          "metadata": {
            "tags": []
          },
          "execution_count": 56
        }
      ]
    },
    {
      "cell_type": "code",
      "metadata": {
        "colab": {
          "base_uri": "https://localhost:8080/",
          "height": 487
        },
        "id": "70_YY15b8PeQ",
        "outputId": "68c5736b-62da-4842-91fb-a04b475bd638"
      },
      "source": [
        "# Import everything\n",
        "import pandas as pd\n",
        "import numpy as np\n",
        "\n",
        "import matplotlib.pyplot as plt\n",
        "import seaborn as sns\n",
        "%matplotlib inline\n",
        "\n",
        "# Create a DataFrame\n",
        "df = pd.read_excel('drive/MyDrive/Colab Notebooks/AIA Project/選址因子06012_J_data_3類.xlsx')\n",
        "\n",
        "# Print the head of the data. #df.head() will defaul to first 5 rows\n",
        "df.head()\n",
        "df\n"
      ],
      "execution_count": 57,
      "outputs": [
        {
          "output_type": "execute_result",
          "data": {
            "text/html": [
              "<div>\n",
              "<style scoped>\n",
              "    .dataframe tbody tr th:only-of-type {\n",
              "        vertical-align: middle;\n",
              "    }\n",
              "\n",
              "    .dataframe tbody tr th {\n",
              "        vertical-align: top;\n",
              "    }\n",
              "\n",
              "    .dataframe thead th {\n",
              "        text-align: right;\n",
              "    }\n",
              "</style>\n",
              "<table border=\"1\" class=\"dataframe\">\n",
              "  <thead>\n",
              "    <tr style=\"text-align: right;\">\n",
              "      <th></th>\n",
              "      <th>業績分類</th>\n",
              "      <th>University</th>\n",
              "      <th>HighSchool</th>\n",
              "      <th>MainCompeteChain</th>\n",
              "      <th>Pharmacy</th>\n",
              "      <th>Attractions</th>\n",
              "      <th>Hospital</th>\n",
              "      <th>IndustyPark</th>\n",
              "      <th>PublicAgency</th>\n",
              "      <th>Transport</th>\n",
              "      <th>HyperMart</th>\n",
              "      <th>Convienence\\n</th>\n",
              "      <th>FastFood</th>\n",
              "      <th>OtherCompeteChain\\n</th>\n",
              "      <th>Gas/Incinerator</th>\n",
              "      <th>Trail/Substation</th>\n",
              "      <th>Markets</th>\n",
              "    </tr>\n",
              "  </thead>\n",
              "  <tbody>\n",
              "    <tr>\n",
              "      <th>0</th>\n",
              "      <td>1</td>\n",
              "      <td>2</td>\n",
              "      <td>0</td>\n",
              "      <td>0</td>\n",
              "      <td>0</td>\n",
              "      <td>1</td>\n",
              "      <td>0</td>\n",
              "      <td>0</td>\n",
              "      <td>0</td>\n",
              "      <td>0</td>\n",
              "      <td>0</td>\n",
              "      <td>0</td>\n",
              "      <td>0</td>\n",
              "      <td>2</td>\n",
              "      <td>0</td>\n",
              "      <td>0</td>\n",
              "      <td>0</td>\n",
              "    </tr>\n",
              "    <tr>\n",
              "      <th>1</th>\n",
              "      <td>1</td>\n",
              "      <td>0</td>\n",
              "      <td>0</td>\n",
              "      <td>3</td>\n",
              "      <td>0</td>\n",
              "      <td>0</td>\n",
              "      <td>0</td>\n",
              "      <td>0</td>\n",
              "      <td>0</td>\n",
              "      <td>0</td>\n",
              "      <td>0</td>\n",
              "      <td>0</td>\n",
              "      <td>0</td>\n",
              "      <td>0</td>\n",
              "      <td>0</td>\n",
              "      <td>0</td>\n",
              "      <td>0</td>\n",
              "    </tr>\n",
              "    <tr>\n",
              "      <th>2</th>\n",
              "      <td>1</td>\n",
              "      <td>0</td>\n",
              "      <td>0</td>\n",
              "      <td>0</td>\n",
              "      <td>0</td>\n",
              "      <td>1</td>\n",
              "      <td>0</td>\n",
              "      <td>0</td>\n",
              "      <td>0</td>\n",
              "      <td>0</td>\n",
              "      <td>0</td>\n",
              "      <td>2</td>\n",
              "      <td>0</td>\n",
              "      <td>1</td>\n",
              "      <td>0</td>\n",
              "      <td>0</td>\n",
              "      <td>0</td>\n",
              "    </tr>\n",
              "    <tr>\n",
              "      <th>3</th>\n",
              "      <td>1</td>\n",
              "      <td>0</td>\n",
              "      <td>0</td>\n",
              "      <td>0</td>\n",
              "      <td>0</td>\n",
              "      <td>0</td>\n",
              "      <td>0</td>\n",
              "      <td>0</td>\n",
              "      <td>0</td>\n",
              "      <td>0</td>\n",
              "      <td>0</td>\n",
              "      <td>0</td>\n",
              "      <td>0</td>\n",
              "      <td>1</td>\n",
              "      <td>0</td>\n",
              "      <td>0</td>\n",
              "      <td>0</td>\n",
              "    </tr>\n",
              "    <tr>\n",
              "      <th>4</th>\n",
              "      <td>1</td>\n",
              "      <td>0</td>\n",
              "      <td>0</td>\n",
              "      <td>3</td>\n",
              "      <td>0</td>\n",
              "      <td>0</td>\n",
              "      <td>0</td>\n",
              "      <td>0</td>\n",
              "      <td>0</td>\n",
              "      <td>0</td>\n",
              "      <td>1</td>\n",
              "      <td>1</td>\n",
              "      <td>1</td>\n",
              "      <td>1</td>\n",
              "      <td>0</td>\n",
              "      <td>0</td>\n",
              "      <td>2</td>\n",
              "    </tr>\n",
              "    <tr>\n",
              "      <th>...</th>\n",
              "      <td>...</td>\n",
              "      <td>...</td>\n",
              "      <td>...</td>\n",
              "      <td>...</td>\n",
              "      <td>...</td>\n",
              "      <td>...</td>\n",
              "      <td>...</td>\n",
              "      <td>...</td>\n",
              "      <td>...</td>\n",
              "      <td>...</td>\n",
              "      <td>...</td>\n",
              "      <td>...</td>\n",
              "      <td>...</td>\n",
              "      <td>...</td>\n",
              "      <td>...</td>\n",
              "      <td>...</td>\n",
              "      <td>...</td>\n",
              "    </tr>\n",
              "    <tr>\n",
              "      <th>105</th>\n",
              "      <td>100</td>\n",
              "      <td>0</td>\n",
              "      <td>0</td>\n",
              "      <td>1</td>\n",
              "      <td>0</td>\n",
              "      <td>0</td>\n",
              "      <td>0</td>\n",
              "      <td>0</td>\n",
              "      <td>0</td>\n",
              "      <td>0</td>\n",
              "      <td>0</td>\n",
              "      <td>2</td>\n",
              "      <td>0</td>\n",
              "      <td>1</td>\n",
              "      <td>0</td>\n",
              "      <td>0</td>\n",
              "      <td>0</td>\n",
              "    </tr>\n",
              "    <tr>\n",
              "      <th>106</th>\n",
              "      <td>100</td>\n",
              "      <td>0</td>\n",
              "      <td>0</td>\n",
              "      <td>1</td>\n",
              "      <td>2</td>\n",
              "      <td>0</td>\n",
              "      <td>0</td>\n",
              "      <td>0</td>\n",
              "      <td>0</td>\n",
              "      <td>0</td>\n",
              "      <td>1</td>\n",
              "      <td>1</td>\n",
              "      <td>0</td>\n",
              "      <td>3</td>\n",
              "      <td>1</td>\n",
              "      <td>0</td>\n",
              "      <td>1</td>\n",
              "    </tr>\n",
              "    <tr>\n",
              "      <th>107</th>\n",
              "      <td>100</td>\n",
              "      <td>0</td>\n",
              "      <td>0</td>\n",
              "      <td>0</td>\n",
              "      <td>1</td>\n",
              "      <td>0</td>\n",
              "      <td>0</td>\n",
              "      <td>0</td>\n",
              "      <td>0</td>\n",
              "      <td>0</td>\n",
              "      <td>0</td>\n",
              "      <td>1</td>\n",
              "      <td>0</td>\n",
              "      <td>2</td>\n",
              "      <td>0</td>\n",
              "      <td>0</td>\n",
              "      <td>0</td>\n",
              "    </tr>\n",
              "    <tr>\n",
              "      <th>108</th>\n",
              "      <td>100</td>\n",
              "      <td>0</td>\n",
              "      <td>0</td>\n",
              "      <td>1</td>\n",
              "      <td>0</td>\n",
              "      <td>0</td>\n",
              "      <td>0</td>\n",
              "      <td>0</td>\n",
              "      <td>0</td>\n",
              "      <td>0</td>\n",
              "      <td>0</td>\n",
              "      <td>1</td>\n",
              "      <td>0</td>\n",
              "      <td>0</td>\n",
              "      <td>0</td>\n",
              "      <td>0</td>\n",
              "      <td>0</td>\n",
              "    </tr>\n",
              "    <tr>\n",
              "      <th>109</th>\n",
              "      <td>100</td>\n",
              "      <td>0</td>\n",
              "      <td>0</td>\n",
              "      <td>1</td>\n",
              "      <td>0</td>\n",
              "      <td>0</td>\n",
              "      <td>1</td>\n",
              "      <td>0</td>\n",
              "      <td>1</td>\n",
              "      <td>2</td>\n",
              "      <td>0</td>\n",
              "      <td>1</td>\n",
              "      <td>0</td>\n",
              "      <td>2</td>\n",
              "      <td>0</td>\n",
              "      <td>0</td>\n",
              "      <td>0</td>\n",
              "    </tr>\n",
              "  </tbody>\n",
              "</table>\n",
              "<p>110 rows × 17 columns</p>\n",
              "</div>"
            ],
            "text/plain": [
              "     業績分類  University  HighSchool  ...  Gas/Incinerator  Trail/Substation  Markets\n",
              "0       1           2           0  ...                0                 0        0\n",
              "1       1           0           0  ...                0                 0        0\n",
              "2       1           0           0  ...                0                 0        0\n",
              "3       1           0           0  ...                0                 0        0\n",
              "4       1           0           0  ...                0                 0        2\n",
              "..    ...         ...         ...  ...              ...               ...      ...\n",
              "105   100           0           0  ...                0                 0        0\n",
              "106   100           0           0  ...                1                 0        1\n",
              "107   100           0           0  ...                0                 0        0\n",
              "108   100           0           0  ...                0                 0        0\n",
              "109   100           0           0  ...                0                 0        0\n",
              "\n",
              "[110 rows x 17 columns]"
            ]
          },
          "metadata": {
            "tags": []
          },
          "execution_count": 57
        }
      ]
    },
    {
      "cell_type": "code",
      "metadata": {
        "colab": {
          "base_uri": "https://localhost:8080/",
          "height": 417
        },
        "id": "3O9TexHS8SkI",
        "outputId": "9e04efe9-d8ec-4804-ad0e-a5a8fe27c303"
      },
      "source": [
        "from sklearn.preprocessing import StandardScaler\n",
        "\n",
        "scaler = StandardScaler()\n",
        "scaler.fit(df.drop('業績分類', axis=1))\n",
        "sc_transform = scaler.transform(df.drop('業績分類', axis=1))\n",
        "sc_df = pd.DataFrame(sc_transform)\n",
        "\n",
        "# Now you can safely use sc_df as your input features.\n",
        "sc_df"
      ],
      "execution_count": 58,
      "outputs": [
        {
          "output_type": "execute_result",
          "data": {
            "text/html": [
              "<div>\n",
              "<style scoped>\n",
              "    .dataframe tbody tr th:only-of-type {\n",
              "        vertical-align: middle;\n",
              "    }\n",
              "\n",
              "    .dataframe tbody tr th {\n",
              "        vertical-align: top;\n",
              "    }\n",
              "\n",
              "    .dataframe thead th {\n",
              "        text-align: right;\n",
              "    }\n",
              "</style>\n",
              "<table border=\"1\" class=\"dataframe\">\n",
              "  <thead>\n",
              "    <tr style=\"text-align: right;\">\n",
              "      <th></th>\n",
              "      <th>0</th>\n",
              "      <th>1</th>\n",
              "      <th>2</th>\n",
              "      <th>3</th>\n",
              "      <th>4</th>\n",
              "      <th>5</th>\n",
              "      <th>6</th>\n",
              "      <th>7</th>\n",
              "      <th>8</th>\n",
              "      <th>9</th>\n",
              "      <th>10</th>\n",
              "      <th>11</th>\n",
              "      <th>12</th>\n",
              "      <th>13</th>\n",
              "      <th>14</th>\n",
              "      <th>15</th>\n",
              "    </tr>\n",
              "  </thead>\n",
              "  <tbody>\n",
              "    <tr>\n",
              "      <th>0</th>\n",
              "      <td>5.776655</td>\n",
              "      <td>-0.333333</td>\n",
              "      <td>-1.123246</td>\n",
              "      <td>-0.400583</td>\n",
              "      <td>1.085889</td>\n",
              "      <td>-0.397360</td>\n",
              "      <td>-0.167444</td>\n",
              "      <td>-0.421811</td>\n",
              "      <td>-0.428505</td>\n",
              "      <td>-0.467117</td>\n",
              "      <td>-0.971375</td>\n",
              "      <td>-0.553969</td>\n",
              "      <td>1.037393</td>\n",
              "      <td>-0.280056</td>\n",
              "      <td>0.0</td>\n",
              "      <td>-0.528673</td>\n",
              "    </tr>\n",
              "    <tr>\n",
              "      <th>1</th>\n",
              "      <td>-0.304034</td>\n",
              "      <td>-0.333333</td>\n",
              "      <td>1.622467</td>\n",
              "      <td>-0.400583</td>\n",
              "      <td>-0.528271</td>\n",
              "      <td>-0.397360</td>\n",
              "      <td>-0.167444</td>\n",
              "      <td>-0.421811</td>\n",
              "      <td>-0.428505</td>\n",
              "      <td>-0.467117</td>\n",
              "      <td>-0.971375</td>\n",
              "      <td>-0.553969</td>\n",
              "      <td>-1.000343</td>\n",
              "      <td>-0.280056</td>\n",
              "      <td>0.0</td>\n",
              "      <td>-0.528673</td>\n",
              "    </tr>\n",
              "    <tr>\n",
              "      <th>2</th>\n",
              "      <td>-0.304034</td>\n",
              "      <td>-0.333333</td>\n",
              "      <td>-1.123246</td>\n",
              "      <td>-0.400583</td>\n",
              "      <td>1.085889</td>\n",
              "      <td>-0.397360</td>\n",
              "      <td>-0.167444</td>\n",
              "      <td>-0.421811</td>\n",
              "      <td>-0.428505</td>\n",
              "      <td>-0.467117</td>\n",
              "      <td>1.603354</td>\n",
              "      <td>-0.553969</td>\n",
              "      <td>0.018525</td>\n",
              "      <td>-0.280056</td>\n",
              "      <td>0.0</td>\n",
              "      <td>-0.528673</td>\n",
              "    </tr>\n",
              "    <tr>\n",
              "      <th>3</th>\n",
              "      <td>-0.304034</td>\n",
              "      <td>-0.333333</td>\n",
              "      <td>-1.123246</td>\n",
              "      <td>-0.400583</td>\n",
              "      <td>-0.528271</td>\n",
              "      <td>-0.397360</td>\n",
              "      <td>-0.167444</td>\n",
              "      <td>-0.421811</td>\n",
              "      <td>-0.428505</td>\n",
              "      <td>-0.467117</td>\n",
              "      <td>-0.971375</td>\n",
              "      <td>-0.553969</td>\n",
              "      <td>0.018525</td>\n",
              "      <td>-0.280056</td>\n",
              "      <td>0.0</td>\n",
              "      <td>-0.528673</td>\n",
              "    </tr>\n",
              "    <tr>\n",
              "      <th>4</th>\n",
              "      <td>-0.304034</td>\n",
              "      <td>-0.333333</td>\n",
              "      <td>1.622467</td>\n",
              "      <td>-0.400583</td>\n",
              "      <td>-0.528271</td>\n",
              "      <td>-0.397360</td>\n",
              "      <td>-0.167444</td>\n",
              "      <td>-0.421811</td>\n",
              "      <td>-0.428505</td>\n",
              "      <td>1.435952</td>\n",
              "      <td>0.315989</td>\n",
              "      <td>1.092966</td>\n",
              "      <td>0.018525</td>\n",
              "      <td>-0.280056</td>\n",
              "      <td>0.0</td>\n",
              "      <td>3.481948</td>\n",
              "    </tr>\n",
              "    <tr>\n",
              "      <th>...</th>\n",
              "      <td>...</td>\n",
              "      <td>...</td>\n",
              "      <td>...</td>\n",
              "      <td>...</td>\n",
              "      <td>...</td>\n",
              "      <td>...</td>\n",
              "      <td>...</td>\n",
              "      <td>...</td>\n",
              "      <td>...</td>\n",
              "      <td>...</td>\n",
              "      <td>...</td>\n",
              "      <td>...</td>\n",
              "      <td>...</td>\n",
              "      <td>...</td>\n",
              "      <td>...</td>\n",
              "      <td>...</td>\n",
              "    </tr>\n",
              "    <tr>\n",
              "      <th>105</th>\n",
              "      <td>-0.304034</td>\n",
              "      <td>-0.333333</td>\n",
              "      <td>-0.208009</td>\n",
              "      <td>-0.400583</td>\n",
              "      <td>-0.528271</td>\n",
              "      <td>-0.397360</td>\n",
              "      <td>-0.167444</td>\n",
              "      <td>-0.421811</td>\n",
              "      <td>-0.428505</td>\n",
              "      <td>-0.467117</td>\n",
              "      <td>1.603354</td>\n",
              "      <td>-0.553969</td>\n",
              "      <td>0.018525</td>\n",
              "      <td>-0.280056</td>\n",
              "      <td>0.0</td>\n",
              "      <td>-0.528673</td>\n",
              "    </tr>\n",
              "    <tr>\n",
              "      <th>106</th>\n",
              "      <td>-0.304034</td>\n",
              "      <td>-0.333333</td>\n",
              "      <td>-0.208009</td>\n",
              "      <td>4.783427</td>\n",
              "      <td>-0.528271</td>\n",
              "      <td>-0.397360</td>\n",
              "      <td>-0.167444</td>\n",
              "      <td>-0.421811</td>\n",
              "      <td>-0.428505</td>\n",
              "      <td>1.435952</td>\n",
              "      <td>0.315989</td>\n",
              "      <td>-0.553969</td>\n",
              "      <td>2.056261</td>\n",
              "      <td>2.287124</td>\n",
              "      <td>0.0</td>\n",
              "      <td>1.476638</td>\n",
              "    </tr>\n",
              "    <tr>\n",
              "      <th>107</th>\n",
              "      <td>-0.304034</td>\n",
              "      <td>-0.333333</td>\n",
              "      <td>-1.123246</td>\n",
              "      <td>2.191422</td>\n",
              "      <td>-0.528271</td>\n",
              "      <td>-0.397360</td>\n",
              "      <td>-0.167444</td>\n",
              "      <td>-0.421811</td>\n",
              "      <td>-0.428505</td>\n",
              "      <td>-0.467117</td>\n",
              "      <td>0.315989</td>\n",
              "      <td>-0.553969</td>\n",
              "      <td>1.037393</td>\n",
              "      <td>-0.280056</td>\n",
              "      <td>0.0</td>\n",
              "      <td>-0.528673</td>\n",
              "    </tr>\n",
              "    <tr>\n",
              "      <th>108</th>\n",
              "      <td>-0.304034</td>\n",
              "      <td>-0.333333</td>\n",
              "      <td>-0.208009</td>\n",
              "      <td>-0.400583</td>\n",
              "      <td>-0.528271</td>\n",
              "      <td>-0.397360</td>\n",
              "      <td>-0.167444</td>\n",
              "      <td>-0.421811</td>\n",
              "      <td>-0.428505</td>\n",
              "      <td>-0.467117</td>\n",
              "      <td>0.315989</td>\n",
              "      <td>-0.553969</td>\n",
              "      <td>-1.000343</td>\n",
              "      <td>-0.280056</td>\n",
              "      <td>0.0</td>\n",
              "      <td>-0.528673</td>\n",
              "    </tr>\n",
              "    <tr>\n",
              "      <th>109</th>\n",
              "      <td>-0.304034</td>\n",
              "      <td>-0.333333</td>\n",
              "      <td>-0.208009</td>\n",
              "      <td>-0.400583</td>\n",
              "      <td>-0.528271</td>\n",
              "      <td>2.516611</td>\n",
              "      <td>-0.167444</td>\n",
              "      <td>0.867055</td>\n",
              "      <td>3.670241</td>\n",
              "      <td>-0.467117</td>\n",
              "      <td>0.315989</td>\n",
              "      <td>-0.553969</td>\n",
              "      <td>1.037393</td>\n",
              "      <td>-0.280056</td>\n",
              "      <td>0.0</td>\n",
              "      <td>-0.528673</td>\n",
              "    </tr>\n",
              "  </tbody>\n",
              "</table>\n",
              "<p>110 rows × 16 columns</p>\n",
              "</div>"
            ],
            "text/plain": [
              "           0         1         2         3   ...        12        13   14        15\n",
              "0    5.776655 -0.333333 -1.123246 -0.400583  ...  1.037393 -0.280056  0.0 -0.528673\n",
              "1   -0.304034 -0.333333  1.622467 -0.400583  ... -1.000343 -0.280056  0.0 -0.528673\n",
              "2   -0.304034 -0.333333 -1.123246 -0.400583  ...  0.018525 -0.280056  0.0 -0.528673\n",
              "3   -0.304034 -0.333333 -1.123246 -0.400583  ...  0.018525 -0.280056  0.0 -0.528673\n",
              "4   -0.304034 -0.333333  1.622467 -0.400583  ...  0.018525 -0.280056  0.0  3.481948\n",
              "..        ...       ...       ...       ...  ...       ...       ...  ...       ...\n",
              "105 -0.304034 -0.333333 -0.208009 -0.400583  ...  0.018525 -0.280056  0.0 -0.528673\n",
              "106 -0.304034 -0.333333 -0.208009  4.783427  ...  2.056261  2.287124  0.0  1.476638\n",
              "107 -0.304034 -0.333333 -1.123246  2.191422  ...  1.037393 -0.280056  0.0 -0.528673\n",
              "108 -0.304034 -0.333333 -0.208009 -0.400583  ... -1.000343 -0.280056  0.0 -0.528673\n",
              "109 -0.304034 -0.333333 -0.208009 -0.400583  ...  1.037393 -0.280056  0.0 -0.528673\n",
              "\n",
              "[110 rows x 16 columns]"
            ]
          },
          "metadata": {
            "tags": []
          },
          "execution_count": 58
        }
      ]
    },
    {
      "cell_type": "code",
      "metadata": {
        "id": "3xPiuLw-8VfE"
      },
      "source": [
        "from sklearn.model_selection import train_test_split\n",
        "\n",
        "X = sc_transform\n",
        "y = df['業績分類']\n",
        "X_train, X_test, y_train, y_test = train_test_split(X, y, test_size=0.25)"
      ],
      "execution_count": 59,
      "outputs": []
    },
    {
      "cell_type": "code",
      "metadata": {
        "colab": {
          "base_uri": "https://localhost:8080/",
          "height": 475
        },
        "id": "nPiOQ7zL8fJt",
        "outputId": "ced5787b-9138-4ed2-c26a-52c3d4ecccf4"
      },
      "source": [
        "# Initialize an array that stores the error rates.\n",
        "from sklearn.neighbors import KNeighborsClassifier\n",
        "\n",
        "error_rates = []\n",
        "test_scores = []\n",
        "train_scores = []\n",
        "\n",
        "for a in range(1, 40):\n",
        "    k = a\n",
        "    knn = KNeighborsClassifier(n_neighbors=k)\n",
        "    knn.fit(X_train, y_train)\n",
        "    preds = knn.predict(X_test)\n",
        "    error_rates.append(np.mean(y_test - preds))\n",
        "    \n",
        "    train_scores.append(knn.score(X_train,y_train))\n",
        "    test_scores.append(knn.score(X_test,y_test))\n",
        "\n",
        "plt.figure(figsize=(10, 7))\n",
        "plt.plot(range(1,40),error_rates,color='blue', linestyle='dashed', marker='o',\n",
        "         markerfacecolor='red', markersize=10)\n",
        "plt.title('Error Rate vs. K Value')\n",
        "plt.xlabel('K')\n",
        "plt.ylabel('Error Rate')"
      ],
      "execution_count": 60,
      "outputs": [
        {
          "output_type": "execute_result",
          "data": {
            "text/plain": [
              "Text(0, 0.5, 'Error Rate')"
            ]
          },
          "metadata": {
            "tags": []
          },
          "execution_count": 60
        },
        {
          "output_type": "display_data",
          "data": {
            "image/png": "[encoded data removed]",
            "text/plain": [
              "<Figure size 720x504 with 1 Axes>"
            ]
          },
          "metadata": {
            "tags": [],
            "needs_background": "light"
          }
        }
      ]
    },
    {
      "cell_type": "code",
      "metadata": {
        "colab": {
          "base_uri": "https://localhost:8080/"
        },
        "id": "LkVEhoLFZ-_o",
        "outputId": "b9672200-3a8a-4ef5-b226-db74a767b4ee"
      },
      "source": [
        "## score that comes from testing on the same datapoints that were used for training\n",
        "max_train_score = max(train_scores)\n",
        "train_scores_ind = [i for i, v in enumerate(train_scores) if v == max_train_score]\n",
        "print('Max train score {} % and k = {}'.format(max_train_score*100,list(map(lambda x: x+1, train_scores_ind))))"
      ],
      "execution_count": 61,
      "outputs": [
        {
          "output_type": "stream",
          "text": [
            "Max train score 98.78048780487805 % and k = [1]\n"
          ],
          "name": "stdout"
        }
      ]
    },
    {
      "cell_type": "code",
      "metadata": {
        "colab": {
          "base_uri": "https://localhost:8080/"
        },
        "id": "BSeXzTklaLR8",
        "outputId": "9a57e49d-39b4-451e-e4fb-fd3dda59fa1c"
      },
      "source": [
        "## score that comes from testing on the datapoints that were split in the beginning to be used for testing solely\n",
        "max_test_score = max(test_scores)\n",
        "test_scores_ind = [i for i, v in enumerate(test_scores) if v == max_test_score]\n",
        "print('Max test score {} % and k = {}'.format(max_test_score*100,list(map(lambda x: x+1, test_scores_ind))))\n",
        "ts=list(map(lambda x: x+1, test_scores_ind))"
      ],
      "execution_count": 62,
      "outputs": [
        {
          "output_type": "stream",
          "text": [
            "Max test score 64.28571428571429 % and k = [14, 15]\n"
          ],
          "name": "stdout"
        }
      ]
    },
    {
      "cell_type": "code",
      "metadata": {
        "colab": {
          "base_uri": "https://localhost:8080/",
          "height": 562
        },
        "id": "TQ8ffo52aTAr",
        "outputId": "d5469886-00ee-4d85-aa9f-53a4e1fb1095"
      },
      "source": [
        "plt.figure(figsize=(12,7))\n",
        "p = sns.lineplot(range(1,40),train_scores,marker='*',label='Train Score')\n",
        "p = sns.lineplot(range(1,40),test_scores,marker='o',label='Test Score')\n",
        "plt.title('Score vs. K Value')\n",
        "plt.xlabel('K Value')\n",
        "plt.ylabel('Score')"
      ],
      "execution_count": 63,
      "outputs": [
        {
          "output_type": "stream",
          "text": [
            "/usr/local/lib/python3.7/dist-packages/seaborn/_decorators.py:43: FutureWarning: Pass the following variables as keyword args: x, y. From version 0.12, the only valid positional argument will be `data`, and passing other arguments without an explicit keyword will result in an error or misinterpretation.\n",
            "  FutureWarning\n",
            "/usr/local/lib/python3.7/dist-packages/seaborn/_decorators.py:43: FutureWarning: Pass the following variables as keyword args: x, y. From version 0.12, the only valid positional argument will be `data`, and passing other arguments without an explicit keyword will result in an error or misinterpretation.\n",
            "  FutureWarning\n"
          ],
          "name": "stderr"
        },
        {
          "output_type": "execute_result",
          "data": {
            "text/plain": [
              "Text(0, 0.5, 'Score')"
            ]
          },
          "metadata": {
            "tags": []
          },
          "execution_count": 63
        },
        {
          "output_type": "display_data",
          "data": {
            "image/png": "[encoded data removed]",
            "text/plain": [
              "<Figure size 864x504 with 1 Axes>"
            ]
          },
          "metadata": {
            "tags": [],
            "needs_background": "light"
          }
        }
      ]
    },
    {
      "cell_type": "code",
      "metadata": {
        "colab": {
          "base_uri": "https://localhost:8080/"
        },
        "id": "_fKuCg9QanTx",
        "outputId": "bc075a3d-f1fd-4984-a068-5025f2c73bb0"
      },
      "source": [
        "ts"
      ],
      "execution_count": 64,
      "outputs": [
        {
          "output_type": "execute_result",
          "data": {
            "text/plain": [
              "[14, 15]"
            ]
          },
          "metadata": {
            "tags": []
          },
          "execution_count": 64
        }
      ]
    },
    {
      "cell_type": "code",
      "metadata": {
        "id": "asPO41f-8iPI"
      },
      "source": [
        "k = ts[0]\n",
        "knn = KNeighborsClassifier(n_neighbors=k)\n",
        "knn.fit(X_train, y_train)\n",
        "preds = knn.predict(X_test)"
      ],
      "execution_count": 65,
      "outputs": []
    },
    {
      "cell_type": "code",
      "metadata": {
        "colab": {
          "base_uri": "https://localhost:8080/"
        },
        "id": "pMHIc5XE8jQ_",
        "outputId": "5e1a3ff4-48ea-43b7-aa97-e435ccdb92cc"
      },
      "source": [
        "from sklearn.metrics import confusion_matrix, classification_report\n",
        "\n",
        "print(confusion_matrix(y_test, preds))\n",
        "print(classification_report(y_test, preds))"
      ],
      "execution_count": 66,
      "outputs": [
        {
          "output_type": "stream",
          "text": [
            "[[ 4  0  4]\n",
            " [ 0  0  4]\n",
            " [ 2  0 14]]\n",
            "              precision    recall  f1-score   support\n",
            "\n",
            "           1       0.67      0.50      0.57         8\n",
            "          10       0.00      0.00      0.00         4\n",
            "         100       0.64      0.88      0.74        16\n",
            "\n",
            "    accuracy                           0.64        28\n",
            "   macro avg       0.43      0.46      0.44        28\n",
            "weighted avg       0.55      0.64      0.58        28\n",
            "\n"
          ],
          "name": "stdout"
        },
        {
          "output_type": "stream",
          "text": [
            "/usr/local/lib/python3.7/dist-packages/sklearn/metrics/_classification.py:1272: UndefinedMetricWarning: Precision and F-score are ill-defined and being set to 0.0 in labels with no predicted samples. Use `zero_division` parameter to control this behavior.\n",
            "  _warn_prf(average, modifier, msg_start, len(result))\n"
          ],
          "name": "stderr"
        }
      ]
    }
  ]
}